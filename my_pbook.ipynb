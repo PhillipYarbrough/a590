{
  "nbformat": 4,
  "nbformat_minor": 0,
  "metadata": {
    "colab": {
      "name": "my-pbook.ipynb",
      "provenance": [],
      "collapsed_sections": [],
      "authorship_tag": "ABX9TyNMBU2NDJux9avQVuMZORg8",
      "include_colab_link": true
    },
    "kernelspec": {
      "name": "python3",
      "display_name": "Python 3"
    },
    "language_info": {
      "name": "python"
    }
  },
  "cells": [
    {
      "cell_type": "markdown",
      "metadata": {
        "id": "view-in-github",
        "colab_type": "text"
      },
      "source": [
        "<a href=\"https://colab.research.google.com/github/Jade-flow/a590/blob/main/my_pbook.ipynb\" target=\"_parent\"><img src=\"https://colab.research.google.com/assets/colab-badge.svg\" alt=\"Open In Colab\"/></a>"
      ]
    },
    {
      "cell_type": "markdown",
      "metadata": {
        "id": "AHBHeToHMdwy"
      },
      "source": [
        "# Homework\n",
        "*   author: J\n",
        "*   date: 12-25-2025\n",
        "*   description: Do Python in Jupyter notebook on Colab"
      ]
    },
    {
      "cell_type": "code",
      "metadata": {
        "colab": {
          "base_uri": "https://localhost:8080/"
        },
        "id": "KVqoyG4UMBlu",
        "outputId": "1044e4d5-25ba-457d-958e-9260f5de7c0c"
      },
      "source": [
        "# check python version \n",
        "import sys\n",
        "sys.version_info"
      ],
      "execution_count": null,
      "outputs": [
        {
          "output_type": "execute_result",
          "data": {
            "text/plain": [
              "sys.version_info(major=3, minor=7, micro=11, releaselevel='final', serial=0)"
            ]
          },
          "metadata": {},
          "execution_count": 1
        }
      ]
    },
    {
      "cell_type": "markdown",
      "metadata": {
        "id": "6gOhQucyY_7f"
      },
      "source": [
        "gh"
      ]
    },
    {
      "cell_type": "code",
      "metadata": {
        "colab": {
          "base_uri": "https://localhost:8080/"
        },
        "id": "Xum5rE1sNQ0t",
        "outputId": "43be4d1f-510a-4aa8-d02c-9709e46a10eb"
      },
      "source": [
        "# testBreak.py\n",
        "sum = 0\n",
        "number = 0\n",
        "\n",
        "while number < 100:\n",
        "  number += 1\n",
        "  sum += number\n",
        "  if sum >= 10000:\n",
        "    break\n",
        "\n",
        "print(f\"The number is {number}. \\nThe sum is {sum}.\")"
      ],
      "execution_count": null,
      "outputs": [
        {
          "output_type": "stream",
          "text": [
            "The number is 100. \n",
            "The sum is 5050.\n"
          ],
          "name": "stdout"
        }
      ]
    },
    {
      "cell_type": "code",
      "metadata": {
        "id": "aoGsQBnjVn_A"
      },
      "source": [
        "# sort(n1, n2)\n",
        "def sort(n1, n2):\n",
        "  \"\"\"\n",
        "  Takes two numbers and returns them in ascending order\n",
        "  Examples::\n",
        "    sort(4.5, 9)\n",
        "  \"\"\"\n",
        "\n",
        "  return"
      ],
      "execution_count": null,
      "outputs": []
    }
  ]
}