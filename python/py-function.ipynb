{
  "nbformat": 4,
  "nbformat_minor": 0,
  "metadata": {
    "colab": {
      "name": "my-pbook.ipynb",
      "provenance": [],
      "collapsed_sections": [],
      "authorship_tag": "ABX9TyP/lIF2q9xW6p7AIMXBT5AP",
      "include_colab_link": true
    },
    "kernelspec": {
      "name": "python3",
      "display_name": "Python 3"
    },
    "language_info": {
      "name": "python"
    }
  },
  "cells": [
    {
      "cell_type": "markdown",
      "metadata": {
        "id": "view-in-github",
        "colab_type": "text"
      },
      "source": [
        "<a href=\"https://colab.research.google.com/github/Jade-flow/a590/blob/main/python/py-function.ipynb\" target=\"_parent\"><img src=\"https://colab.research.google.com/assets/colab-badge.svg\" alt=\"Open In Colab\"/></a>"
      ]
    },
    {
      "cell_type": "markdown",
      "metadata": {
        "id": "AHBHeToHMdwy"
      },
      "source": [
        "# Homework\n",
        "*   author: J\n",
        "*   date: 12-25-2029\n",
        "*   description: Do Python in Jupyter notebook on Colab"
      ]
    },
    {
      "cell_type": "code",
      "metadata": {
        "colab": {
          "base_uri": "https://localhost:8080/"
        },
        "id": "KVqoyG4UMBlu",
        "outputId": "a27ef833-fc1e-40e7-a0a4-17f9248c4b4e"
      },
      "source": [
        "# check python version \n",
        "import sys\n",
        "sys.version_info"
      ],
      "execution_count": null,
      "outputs": [
        {
          "output_type": "execute_result",
          "data": {
            "text/plain": [
              "sys.version_info(major=3, minor=7, micro=11, releaselevel='final', serial=0)"
            ]
          },
          "metadata": {},
          "execution_count": 1
        }
      ]
    },
    {
      "cell_type": "code",
      "metadata": {
        "colab": {
          "base_uri": "https://localhost:8080/"
        },
        "id": "Xum5rE1sNQ0t",
        "outputId": "7a7a5eee-2a57-4093-862a-2581f037ace2"
      },
      "source": [
        "# testBreak.py\n",
        "sum = 0\n",
        "number = 0\n",
        "\n",
        "while number < 100:\n",
        "  number += 1\n",
        "  sum += number\n",
        "  if sum >= 10000:\n",
        "    break\n",
        "\n",
        "print(f\"The number is {number}. \\nThe sum is {sum}.\")"
      ],
      "execution_count": null,
      "outputs": [
        {
          "output_type": "stream",
          "text": [
            "The number is 100. \n",
            "The sum is 5050.\n"
          ],
          "name": "stdout"
        }
      ]
    },
    {
      "cell_type": "code",
      "metadata": {
        "id": "aoGsQBnjVn_A"
      },
      "source": [
        "# sort(n1, n2)\n",
        "def sort(n1, n2):\n",
        "  \"\"\"\n",
        "  Takes two numbers and returns them in ascending order\n",
        "  Examples::\n",
        "    sort(4.5, 9)\n",
        "  \"\"\"\n",
        "\n",
        "  return"
      ],
      "execution_count": null,
      "outputs": []
    },
    {
      "cell_type": "markdown",
      "metadata": {
        "id": "cGzXJ0sFuXd7"
      },
      "source": [
        "# timeit\n",
        "A simple way to time small bits of Python code"
      ]
    },
    {
      "cell_type": "code",
      "metadata": {
        "colab": {
          "base_uri": "https://localhost:8080/"
        },
        "id": "WQwcuL3KtRxz",
        "outputId": "6fe21920-6916-4eea-9d27-e9d89bcded5b"
      },
      "source": [
        "%%timeit \n",
        "[n ** 2 for n in range(100000)]"
      ],
      "execution_count": 11,
      "outputs": [
        {
          "output_type": "stream",
          "text": [
            "10 loops, best of 5: 30 ms per loop\n"
          ],
          "name": "stdout"
        }
      ]
    },
    {
      "cell_type": "code",
      "metadata": {
        "colab": {
          "base_uri": "https://localhost:8080/"
        },
        "id": "GXNz4Sapti9Z",
        "outputId": "41383d35-3e4b-4ee6-8f2a-0ba3e7ed6f96"
      },
      "source": [
        "%%timeit\n",
        " L = []\n",
        "for n in range(100000):\n",
        "  L.append(n ** 2)"
      ],
      "execution_count": 12,
      "outputs": [
        {
          "output_type": "stream",
          "text": [
            "10 loops, best of 5: 34.3 ms per loop\n"
          ],
          "name": "stdout"
        }
      ]
    },
    {
      "cell_type": "markdown",
      "metadata": {
        "id": "AksXq5wnvG_M"
      },
      "source": [
        "# Palindrome"
      ]
    },
    {
      "cell_type": "code",
      "metadata": {
        "colab": {
          "base_uri": "https://localhost:8080/",
          "height": 36
        },
        "id": "D0AxuN3erCqg",
        "outputId": "72aadce4-666c-464b-f3ca-a000e8a72f4f"
      },
      "source": [
        "# [::-1] \n",
        "# start at the end; count down to the beginning; step backwards one step at a time\n",
        "sn = str(100)\n",
        "f\"{sn[::-1]}\""
      ],
      "execution_count": 3,
      "outputs": [
        {
          "output_type": "execute_result",
          "data": {
            "application/vnd.google.colaboratory.intrinsic+json": {
              "type": "string"
            },
            "text/plain": [
              "'001'"
            ]
          },
          "metadata": {},
          "execution_count": 3
        }
      ]
    },
    {
      "cell_type": "code",
      "metadata": {
        "colab": {
          "base_uri": "https://localhost:8080/"
        },
        "id": "WTrNtw62r6ag",
        "outputId": "32e7a876-e97c-485f-b213-b0c850795c61"
      },
      "source": [
        "sn = list(str(100)) # ['1', '0', '0']\n",
        "\n",
        "[ for d in sn]"
      ],
      "execution_count": 6,
      "outputs": [
        {
          "output_type": "execute_result",
          "data": {
            "text/plain": [
              "['1', '0', '0']"
            ]
          },
          "metadata": {},
          "execution_count": 6
        }
      ]
    }
  ]
}