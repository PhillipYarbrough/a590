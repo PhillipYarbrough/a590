{
  "nbformat": 4,
  "nbformat_minor": 0,
  "metadata": {
    "colab": {
      "name": "my-pbook.ipynb",
      "provenance": [],
      "collapsed_sections": [],
      "authorship_tag": "ABX9TyPkWxdqq+BO4ezZ4Xi1fB4b",
      "include_colab_link": true
    },
    "kernelspec": {
      "name": "python3",
      "display_name": "Python 3"
    },
    "language_info": {
      "name": "python"
    }
  },
  "cells": [
    {
      "cell_type": "markdown",
      "metadata": {
        "id": "view-in-github",
        "colab_type": "text"
      },
      "source": [
        "<a href=\"https://colab.research.google.com/github/Jade-flow/a590/blob/main/python/py-function.ipynb\" target=\"_parent\"><img src=\"https://colab.research.google.com/assets/colab-badge.svg\" alt=\"Open In Colab\"/></a>"
      ]
    },
    {
      "cell_type": "markdown",
      "metadata": {
        "id": "AHBHeToHMdwy"
      },
      "source": [
        "# Homework\n",
        "*   author: J\n",
        "*   date: 12-25-2029\n",
        "*   description: Do Python in Jupyter notebook on Colab"
      ]
    },
    {
      "cell_type": "code",
      "metadata": {
        "colab": {
          "base_uri": "https://localhost:8080/"
        },
        "id": "KVqoyG4UMBlu",
        "outputId": "e89c57dd-0341-446c-e71c-9086e8984c12"
      },
      "source": [
        "# check python version \n",
        "import sys\n",
        "sys.version_info"
      ],
      "execution_count": 1,
      "outputs": [
        {
          "output_type": "execute_result",
          "data": {
            "text/plain": [
              "sys.version_info(major=3, minor=7, micro=11, releaselevel='final', serial=0)"
            ]
          },
          "metadata": {},
          "execution_count": 1
        }
      ]
    },
    {
      "cell_type": "code",
      "metadata": {
        "colab": {
          "base_uri": "https://localhost:8080/"
        },
        "id": "Xum5rE1sNQ0t",
        "outputId": "ee510086-b6f8-42f5-edae-c843913c5706"
      },
      "source": [
        "# testBreak.py\n",
        "sum = 0\n",
        "number = 0\n",
        "\n",
        "while number < 100:\n",
        "  number += 1\n",
        "  sum += number\n",
        "  if sum >= 10000:\n",
        "    break\n",
        "\n",
        "print(f\"The number is {number}. \\nThe sum is {sum}.\")"
      ],
      "execution_count": 2,
      "outputs": [
        {
          "output_type": "stream",
          "text": [
            "The number is 100. \n",
            "The sum is 5050.\n"
          ],
          "name": "stdout"
        }
      ]
    },
    {
      "cell_type": "code",
      "metadata": {
        "id": "aoGsQBnjVn_A"
      },
      "source": [
        "# sort(n1, n2)\n",
        "def sort(n1, n2):\n",
        "  \"\"\"\n",
        "  Takes two numbers and returns them in ascending order\n",
        "  Examples::\n",
        "    sort(4.5, 9)\n",
        "  \"\"\"\n",
        "\n",
        "  return"
      ],
      "execution_count": 3,
      "outputs": []
    },
    {
      "cell_type": "markdown",
      "metadata": {
        "id": "cGzXJ0sFuXd7"
      },
      "source": [
        "# timeit\n",
        "\n",
        "A simple way to time small bits of Python code\n",
        "\n",
        "1 sec = 1,000 milisec (ms) = 1,000,000 microsec (µs) = 1,000,000,000 nanosec (ns)\n",
        "\n",
        "1 microsecond is 1000 nanoseconds"
      ]
    },
    {
      "cell_type": "code",
      "metadata": {
        "colab": {
          "base_uri": "https://localhost:8080/"
        },
        "id": "WQwcuL3KtRxz",
        "outputId": "bd3e69d9-54c7-4779-c1d8-a6eabc95f8b9"
      },
      "source": [
        "%%timeit \n",
        "[n ** 2 for n in range(100000)]"
      ],
      "execution_count": 4,
      "outputs": [
        {
          "output_type": "stream",
          "text": [
            "10 loops, best of 5: 29.6 ms per loop\n"
          ],
          "name": "stdout"
        }
      ]
    },
    {
      "cell_type": "code",
      "metadata": {
        "colab": {
          "base_uri": "https://localhost:8080/"
        },
        "id": "GXNz4Sapti9Z",
        "outputId": "8d06d7c3-aafd-4238-8795-180e51d93543"
      },
      "source": [
        "%%timeit\n",
        " L = []\n",
        "for n in range(100000):\n",
        "  L.append(n ** 2)"
      ],
      "execution_count": 5,
      "outputs": [
        {
          "output_type": "stream",
          "text": [
            "10 loops, best of 5: 33.2 ms per loop\n"
          ],
          "name": "stdout"
        }
      ]
    },
    {
      "cell_type": "markdown",
      "metadata": {
        "id": "AksXq5wnvG_M"
      },
      "source": [
        "# Palindrome using the slice notation\n",
        "\n"
      ]
    },
    {
      "cell_type": "markdown",
      "metadata": {
        "id": "LOdh8iuX6DGe"
      },
      "source": [
        "## The slice notation `[:]`\n",
        "\n",
        "* `[start : end : step]` is similar to the sequence notation. It is __a stepwise process__.\n",
        "\n",
        "By default, the slice (interval) is left-closed (inclusive) and right-open (exclusive).\n",
        "\n",
        "  - Go to the position specifiied by the index `start`. \n",
        "  - Pull the value. \n",
        "  - Take one step further with the size given by `step` \n",
        "  - Pull the next value. \n",
        "  - Repeat this until reach the position specified by the index `end`. \n",
        "\n",
        "Alternatively, it says we want to pull a slice between two positions, `start` and `end`; the distance between every two values in the slice, is defined by `step`.\n",
        "\n"
      ]
    },
    {
      "cell_type": "markdown",
      "metadata": {
        "id": "UTC8ViVdJRzw"
      },
      "source": [
        "### Exercises"
      ]
    },
    {
      "cell_type": "code",
      "metadata": {
        "colab": {
          "base_uri": "https://localhost:8080/",
          "height": 36
        },
        "id": "9ZkjB4WFJbte",
        "outputId": "7dd30479-128d-4b89-f9c7-739e67376e0c"
      },
      "source": [
        "n = 123456789\n",
        "sn = str(n)\n",
        "sn[0:2:1]"
      ],
      "execution_count": 26,
      "outputs": [
        {
          "output_type": "execute_result",
          "data": {
            "application/vnd.google.colaboratory.intrinsic+json": {
              "type": "string"
            },
            "text/plain": [
              "'12'"
            ]
          },
          "metadata": {},
          "execution_count": 26
        }
      ]
    },
    {
      "cell_type": "code",
      "metadata": {
        "id": "op5azGtQJQsg"
      },
      "source": [
        "n = 199\n",
        "sn = str(n)\n",
        "sn[::-1]"
      ],
      "execution_count": null,
      "outputs": []
    },
    {
      "cell_type": "code",
      "metadata": {
        "colab": {
          "base_uri": "https://localhost:8080/"
        },
        "id": "CNe-fmHU6pBf",
        "outputId": "2fda120e-f5e0-4786-c48c-f7c7cee58537"
      },
      "source": [
        "%%timeit\n",
        "n = 199\n",
        "sn = str(n)\n",
        "sn[::-1]"
      ],
      "execution_count": 6,
      "outputs": [
        {
          "output_type": "stream",
          "text": [
            "The slowest run took 13.15 times longer than the fastest. This could mean that an intermediate result is being cached.\n",
            "1000000 loops, best of 5: 290 ns per loop\n"
          ],
          "name": "stdout"
        }
      ]
    },
    {
      "cell_type": "code",
      "metadata": {
        "colab": {
          "base_uri": "https://localhost:8080/"
        },
        "id": "Z5OKBKaJ6mZ5",
        "outputId": "706e2db8-eabb-490d-e9b7-1f557c791fcd"
      },
      "source": [
        "L = [1,2,3]\n",
        "L[::-1]"
      ],
      "execution_count": 7,
      "outputs": [
        {
          "output_type": "execute_result",
          "data": {
            "text/plain": [
              "[3, 2, 1]"
            ]
          },
          "metadata": {},
          "execution_count": 7
        }
      ]
    },
    {
      "cell_type": "markdown",
      "metadata": {
        "id": "JYa_oaX4Izwn"
      },
      "source": [
        "## __Ternary operator__\n",
        "\n",
        "https://book.pythontips.com/en/latest/ternary_operators.html"
      ]
    },
    {
      "cell_type": "code",
      "metadata": {
        "colab": {
          "base_uri": "https://localhost:8080/"
        },
        "id": "D0AxuN3erCqg",
        "outputId": "8a677a4d-5112-4b81-d5a8-ea5548ce9847"
      },
      "source": [
        "%%timeit\n",
        "n = 234595432\n",
        "n =\"kayak\"\n",
        "sn = str(n)\n",
        "# f\"{sn[::-1]}\"\n",
        "\n",
        "is_palindrome = False\n",
        "if sn == sn[::-1]:\n",
        "  is_palindrome = True\n",
        "\n",
        "answer = f\"{n} is a palindrome\" if is_palindrome is True else f\"{n} is NOT a palindrome\"\n",
        "#print(answer)"
      ],
      "execution_count": 19,
      "outputs": [
        {
          "output_type": "stream",
          "text": [
            "The slowest run took 5.48 times longer than the fastest. This could mean that an intermediate result is being cached.\n",
            "1000000 loops, best of 5: 701 ns per loop\n"
          ],
          "name": "stdout"
        }
      ]
    },
    {
      "cell_type": "markdown",
      "metadata": {
        "id": "enkEO6gT6R5L"
      },
      "source": [
        "# Palindrome Using **list** object and **for** loop"
      ]
    },
    {
      "cell_type": "code",
      "metadata": {
        "colab": {
          "base_uri": "https://localhost:8080/"
        },
        "id": "WTrNtw62r6ag",
        "outputId": "db6ad540-bcd9-41d1-9276-ca6d0f6084e4"
      },
      "source": [
        "%%timeit\n",
        "n = 101\n",
        "ds = list(str(n)) \n",
        "# ds = ['1', '0', '0']\n",
        "\n",
        "size = len(ds)\n",
        "end = size - 1\n",
        "pos = range(0, size)\n",
        "\n",
        "rds = [0] * size\n",
        "for i in pos:\n",
        "  rds[end - i] = ds[i]\n",
        "\n",
        "if rds == ds:\n",
        "  #print(f\"{n} is a palindrome.\")\n",
        "  pass\n",
        "\n",
        "#print(rds)"
      ],
      "execution_count": 23,
      "outputs": [
        {
          "output_type": "stream",
          "text": [
            "The slowest run took 556.18 times longer than the fastest. This could mean that an intermediate result is being cached.\n",
            "1000000 loops, best of 5: 1.29 µs per loop\n"
          ],
          "name": "stdout"
        }
      ]
    }
  ]
}